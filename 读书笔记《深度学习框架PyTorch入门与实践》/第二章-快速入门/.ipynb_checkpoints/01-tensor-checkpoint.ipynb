{
 "cells": [
  {
   "cell_type": "code",
   "execution_count": 1,
   "metadata": {},
   "outputs": [],
   "source": [
    "import torch as t"
   ]
  },
  {
   "cell_type": "code",
   "execution_count": 3,
   "metadata": {},
   "outputs": [
    {
     "name": "stdout",
     "output_type": "stream",
     "text": [
      "tensor([[ 0.0000e+00,  1.0842e-19, -4.0481e-08],\n",
      "        [ 8.5920e+09,  7.0065e-45,  0.0000e+00],\n",
      "        [ 0.0000e+00,  0.0000e+00,  0.0000e+00],\n",
      "        [ 0.0000e+00,  0.0000e+00,  0.0000e+00],\n",
      "        [ 0.0000e+00,  1.0842e-19, -4.8698e-08]])\n"
     ]
    }
   ],
   "source": [
    "# 构建5*3的矩阵，只是分配空间，并没有初始化\n",
    "x = t.Tensor(5,3)\n",
    "print(x)"
   ]
  },
  {
   "cell_type": "code",
   "execution_count": 4,
   "metadata": {},
   "outputs": [
    {
     "name": "stdout",
     "output_type": "stream",
     "text": [
      "tensor([[0.4331, 0.1754, 0.4691],\n",
      "        [0.9938, 0.3358, 0.8248],\n",
      "        [0.4660, 0.0235, 0.7372],\n",
      "        [0.2691, 0.8384, 0.5860],\n",
      "        [0.9133, 0.0591, 0.6361]])\n"
     ]
    }
   ],
   "source": [
    "# 使用0，1 均值分布随机初始化\n",
    "x = t.rand(5,3)\n",
    "print(x)"
   ]
  },
  {
   "cell_type": "code",
   "execution_count": 5,
   "metadata": {},
   "outputs": [
    {
     "name": "stdout",
     "output_type": "stream",
     "text": [
      "torch.Size([5, 3])\n"
     ]
    }
   ],
   "source": [
    "print(x.size())"
   ]
  },
  {
   "cell_type": "code",
   "execution_count": 7,
   "metadata": {},
   "outputs": [
    {
     "name": "stdout",
     "output_type": "stream",
     "text": [
      "tensor([[0.5005, 0.2201, 0.6073],\n",
      "        [0.7232, 0.1083, 0.3073],\n",
      "        [0.8164, 0.9284, 0.2282],\n",
      "        [0.0506, 0.2790, 0.2246],\n",
      "        [0.0212, 0.3437, 0.0005]])\n"
     ]
    }
   ],
   "source": [
    "y = t.rand(5,3)\n",
    "print(y)"
   ]
  },
  {
   "cell_type": "code",
   "execution_count": 8,
   "metadata": {},
   "outputs": [
    {
     "name": "stdout",
     "output_type": "stream",
     "text": [
      "tensor([[0.9336, 0.3955, 1.0765],\n",
      "        [1.7170, 0.4442, 1.1321],\n",
      "        [1.2824, 0.9519, 0.9655],\n",
      "        [0.3198, 1.1174, 0.8105],\n",
      "        [0.9345, 0.4028, 0.6366]])\n"
     ]
    }
   ],
   "source": [
    "print(x+y)"
   ]
  },
  {
   "cell_type": "code",
   "execution_count": 9,
   "metadata": {},
   "outputs": [
    {
     "name": "stdout",
     "output_type": "stream",
     "text": [
      "tensor([[0.9336, 0.3955, 1.0765],\n",
      "        [1.7170, 0.4442, 1.1321],\n",
      "        [1.2824, 0.9519, 0.9655],\n",
      "        [0.3198, 1.1174, 0.8105],\n",
      "        [0.9345, 0.4028, 0.6366]])\n"
     ]
    }
   ],
   "source": [
    "print(t.add(x, y))"
   ]
  },
  {
   "cell_type": "code",
   "execution_count": 10,
   "metadata": {},
   "outputs": [
    {
     "name": "stdout",
     "output_type": "stream",
     "text": [
      "tensor([[0.9336, 0.3955, 1.0765],\n",
      "        [1.7170, 0.4442, 1.1321],\n",
      "        [1.2824, 0.9519, 0.9655],\n",
      "        [0.3198, 1.1174, 0.8105],\n",
      "        [0.9345, 0.4028, 0.6366]])\n"
     ]
    }
   ],
   "source": [
    "result = t.Tensor(5,3)\n",
    "t.add(x,y,out=result)\n",
    "print(result)"
   ]
  },
  {
   "cell_type": "code",
   "execution_count": 11,
   "metadata": {},
   "outputs": [
    {
     "name": "stdout",
     "output_type": "stream",
     "text": [
      "tensor([[0.5005, 0.2201, 0.6073],\n",
      "        [0.7232, 0.1083, 0.3073],\n",
      "        [0.8164, 0.9284, 0.2282],\n",
      "        [0.0506, 0.2790, 0.2246],\n",
      "        [0.0212, 0.3437, 0.0005]])\n",
      "tensor([[0.5005, 0.2201, 0.6073],\n",
      "        [0.7232, 0.1083, 0.3073],\n",
      "        [0.8164, 0.9284, 0.2282],\n",
      "        [0.0506, 0.2790, 0.2246],\n",
      "        [0.0212, 0.3437, 0.0005]])\n",
      "tensor([[0.9336, 0.3955, 1.0765],\n",
      "        [1.7170, 0.4442, 1.1321],\n",
      "        [1.2824, 0.9519, 0.9655],\n",
      "        [0.3198, 1.1174, 0.8105],\n",
      "        [0.9345, 0.4028, 0.6366]])\n"
     ]
    }
   ],
   "source": [
    "print(y)\n",
    "y.add(x)\n",
    "print(y)\n",
    "y.add_(x)\n",
    "print(y)"
   ]
  },
  {
   "cell_type": "code",
   "execution_count": 12,
   "metadata": {},
   "outputs": [
    {
     "name": "stdout",
     "output_type": "stream",
     "text": [
      "tensor([0.1754, 0.3358, 0.0235, 0.8384, 0.0591])\n"
     ]
    }
   ],
   "source": [
    "print(x[:, 1])"
   ]
  },
  {
   "cell_type": "code",
   "execution_count": 13,
   "metadata": {},
   "outputs": [
    {
     "name": "stdout",
     "output_type": "stream",
     "text": [
      "tensor([1., 1., 1., 1., 1.])\n"
     ]
    }
   ],
   "source": [
    "a = t.ones(5)\n",
    "print(a)"
   ]
  },
  {
   "cell_type": "code",
   "execution_count": 15,
   "metadata": {},
   "outputs": [
    {
     "name": "stdout",
     "output_type": "stream",
     "text": [
      "[1. 1. 1. 1. 1.]\n",
      "<class 'numpy.ndarray'>\n"
     ]
    }
   ],
   "source": [
    "b = a.numpy()\n",
    "print(b)\n",
    "print(type(b))"
   ]
  },
  {
   "cell_type": "code",
   "execution_count": 16,
   "metadata": {},
   "outputs": [
    {
     "name": "stdout",
     "output_type": "stream",
     "text": [
      "[1. 1. 1. 1. 1.]\n",
      "tensor([1., 1., 1., 1., 1.], dtype=torch.float64)\n"
     ]
    }
   ],
   "source": [
    "import numpy as np\n",
    "a = np.ones(5)\n",
    "b = t.from_numpy(a)\n",
    "print(a)\n",
    "print(b)"
   ]
  },
  {
   "cell_type": "code",
   "execution_count": 17,
   "metadata": {},
   "outputs": [
    {
     "name": "stdout",
     "output_type": "stream",
     "text": [
      "[2. 2. 2. 2. 2.]\n",
      "tensor([2., 2., 2., 2., 2.], dtype=torch.float64)\n"
     ]
    }
   ],
   "source": [
    "b.add_(1)\n",
    "print(a)\n",
    "print(b)"
   ]
  },
  {
   "cell_type": "code",
   "execution_count": 18,
   "metadata": {},
   "outputs": [
    {
     "name": "stdout",
     "output_type": "stream",
     "text": [
      "False\n"
     ]
    }
   ],
   "source": [
    "print(t.cuda.is_available())"
   ]
  },
  {
   "cell_type": "code",
   "execution_count": null,
   "metadata": {},
   "outputs": [],
   "source": []
  }
 ],
 "metadata": {
  "kernelspec": {
   "display_name": "Python 3",
   "language": "python",
   "name": "python3"
  },
  "language_info": {
   "codemirror_mode": {
    "name": "ipython",
    "version": 3
   },
   "file_extension": ".py",
   "mimetype": "text/x-python",
   "name": "python",
   "nbconvert_exporter": "python",
   "pygments_lexer": "ipython3",
   "version": "3.6.6"
  }
 },
 "nbformat": 4,
 "nbformat_minor": 2
}
