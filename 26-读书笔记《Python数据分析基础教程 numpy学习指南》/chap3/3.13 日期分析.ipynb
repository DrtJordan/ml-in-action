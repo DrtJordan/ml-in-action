{
 "cells": [
  {
   "cell_type": "code",
   "execution_count": 1,
   "metadata": {},
   "outputs": [],
   "source": [
    "import numpy as np"
   ]
  },
  {
   "cell_type": "code",
   "execution_count": 36,
   "metadata": {},
   "outputs": [
    {
     "name": "stdout",
     "output_type": "stream",
     "text": [
      "[4. 0. 1. 2. 3. 4. 0. 1. 2. 3. 4. 0. 1. 2. 3. 4. 1. 2. 3. 4. 0. 1. 2. 3.\n",
      " 4. 0. 1. 2. 3. 4.]\n",
      "[336.1  339.32 345.03 344.32 343.44 346.5  351.88 355.2  358.16 354.54\n",
      " 356.85 359.18 359.9  363.13 358.3  350.56 338.61 342.62 342.88 348.16\n",
      " 353.21 349.31 352.12 359.56 360.   355.36 355.76 352.47 346.67 351.99]\n"
     ]
    }
   ],
   "source": [
    "import datetime\n",
    "def datestr2num(s):\n",
    "    s = str(s, encoding = \"utf-8\")\n",
    "    return datetime.datetime.strptime(s,\"%d-%m-%Y\").date().weekday()\n",
    "\n",
    "dates,open,high,low,close = np.loadtxt('data.csv', \n",
    "                  delimiter=',',\n",
    "                  usecols=(1,3,4,5,6), \n",
    "                  converters={1:datestr2num}, \n",
    "                  unpack=True)\n",
    "print(dates)\n",
    "print(close)"
   ]
  },
  {
   "cell_type": "code",
   "execution_count": 37,
   "metadata": {},
   "outputs": [
    {
     "name": "stdout",
     "output_type": "stream",
     "text": [
      "day 0 prices [[339.32 351.88 359.18 353.21 355.36]] average 351.7900000000001\n",
      "day 1 prices [[345.03 355.2  359.9  338.61 349.31 355.76]] average 350.63500000000005\n",
      "day 2 prices [[344.32 358.16 363.13 342.62 352.12 352.47]] average 352.1366666666666\n",
      "day 3 prices [[343.44 354.54 358.3  342.88 359.56 346.67]] average 350.8983333333333\n",
      "day 4 prices [[336.1  346.5  356.85 350.56 348.16 360.   351.99]] average 350.0228571428571\n"
     ]
    }
   ],
   "source": [
    "averages = np.zeros(5)\n",
    "for i in range(5):\n",
    "    indices = np.where(dates == i)\n",
    "    prices = np.take(close, indices)\n",
    "    avg = np.mean(prices)\n",
    "    print(\"day\",i,\"prices\",prices,\"average\",avg)\n",
    "    averages[i] = avg"
   ]
  },
  {
   "cell_type": "code",
   "execution_count": 38,
   "metadata": {},
   "outputs": [
    {
     "name": "stdout",
     "output_type": "stream",
     "text": [
      "highest average 352.1366666666666\n",
      "top day of the week 2\n",
      "lowest average 350.0228571428571\n",
      "bottom day of the week 4\n"
     ]
    }
   ],
   "source": [
    "top = np.max(averages)\n",
    "# argmax 返回最大的索引\n",
    "print(\"highest average\", top)\n",
    "print(\"top day of the week\", np.argmax(averages))\n",
    "bottom = np.min(averages)\n",
    "# argmin 返回最小的索引\n",
    "print(\"lowest average\", bottom)\n",
    "print(\"bottom day of the week\", np.argmin(averages))"
   ]
  },
  {
   "cell_type": "code",
   "execution_count": 39,
   "metadata": {},
   "outputs": [],
   "source": [
    "close = close[:16]\n",
    "dates = dates[:16]"
   ]
  },
  {
   "cell_type": "code",
   "execution_count": 40,
   "metadata": {},
   "outputs": [
    {
     "name": "stdout",
     "output_type": "stream",
     "text": [
      "1\n"
     ]
    }
   ],
   "source": [
    "first_monday = np.ravel(np.where(dates == 0))[0]\n",
    "print(first_monday)"
   ]
  },
  {
   "cell_type": "code",
   "execution_count": 42,
   "metadata": {},
   "outputs": [
    {
     "name": "stdout",
     "output_type": "stream",
     "text": [
      "15\n"
     ]
    }
   ],
   "source": [
    "last_friday = np.ravel(np.where(dates == 4))[-1]\n",
    "print(last_friday)"
   ]
  },
  {
   "cell_type": "code",
   "execution_count": 44,
   "metadata": {},
   "outputs": [
    {
     "name": "stdout",
     "output_type": "stream",
     "text": [
      "[ 1  2  3  4  5  6  7  8  9 10 11 12 13 14 15]\n",
      "[array([1, 2, 3, 4, 5]), array([ 6,  7,  8,  9, 10]), array([11, 12, 13, 14, 15])]\n"
     ]
    }
   ],
   "source": [
    "weeks_indices = np.arange(first_monday, last_friday+1)\n",
    "print(weeks_indices)\n",
    "weeks_indices = np.split(weeks_indices, 3)\n",
    "print(weeks_indices)"
   ]
  },
  {
   "cell_type": "code",
   "execution_count": 46,
   "metadata": {},
   "outputs": [
    {
     "name": "stdout",
     "output_type": "stream",
     "text": [
      "[['APPL' '335.8' '346.7' '334.3' '346.5']\n",
      " ['APPL' '347.8' '360.0' '347.6' '356.8']\n",
      " ['APPL' '356.7' '364.9' '349.5' '350.5']]\n"
     ]
    }
   ],
   "source": [
    "def summarize(a, o, h, l, c):\n",
    "    monday_open = o[a[0]]\n",
    "    week_high = np.max(np.take(h,a))\n",
    "    week_low = np.min(np.take(l,a))\n",
    "    friday_close = c[a[-1]]\n",
    "    \n",
    "    return (\"APPL\", monday_open, week_high, week_low, friday_close)\n",
    "\n",
    "weeksummary = np.apply_along_axis(summarize, 1, weeks_indices, open, high, low, close)\n",
    "print(weeksummary)\n",
    "np.savetxt('weeksummary.csv', weeksummary, delimiter=',', fmt=\"%s\")"
   ]
  },
  {
   "cell_type": "code",
   "execution_count": 51,
   "metadata": {},
   "outputs": [
    {
     "name": "stdout",
     "output_type": "stream",
     "text": [
      "[ 1  6 11]\n"
     ]
    }
   ],
   "source": [
    "def test(a):\n",
    "    return a[0]\n",
    "test = np.apply_along_axis(test, 1, weeks_indices)\n",
    "print(test)"
   ]
  },
  {
   "cell_type": "code",
   "execution_count": null,
   "metadata": {},
   "outputs": [],
   "source": []
  }
 ],
 "metadata": {
  "kernelspec": {
   "display_name": "Python 3",
   "language": "python",
   "name": "python3"
  },
  "language_info": {
   "codemirror_mode": {
    "name": "ipython",
    "version": 3
   },
   "file_extension": ".py",
   "mimetype": "text/x-python",
   "name": "python",
   "nbconvert_exporter": "python",
   "pygments_lexer": "ipython3",
   "version": "3.6.5"
  }
 },
 "nbformat": 4,
 "nbformat_minor": 2
}
