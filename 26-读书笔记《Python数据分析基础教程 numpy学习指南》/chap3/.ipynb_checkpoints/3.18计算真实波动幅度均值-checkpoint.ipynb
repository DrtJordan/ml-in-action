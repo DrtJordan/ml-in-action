{
 "cells": [
  {
   "cell_type": "code",
   "execution_count": 1,
   "metadata": {},
   "outputs": [],
   "source": [
    "import numpy as np"
   ]
  },
  {
   "cell_type": "code",
   "execution_count": 4,
   "metadata": {},
   "outputs": [
    {
     "name": "stdout",
     "output_type": "stream",
     "text": [
      "[357.8  359.48 359.97 364.9  360.27 359.5  345.4  344.64 345.15 348.43\n",
      " 355.05 355.72 354.35 359.79 360.29 361.67 357.4  354.76 349.77 352.32]\n",
      "[353.54 356.71 357.55 360.5  356.52 349.52 337.72 338.61 338.37 344.8\n",
      " 351.12 347.68 348.4  355.92 357.75 351.31 352.25 350.6  344.9  345.  ]\n"
     ]
    }
   ],
   "source": [
    "h, l, c = np.loadtxt('data.csv', delimiter=',', usecols=(4,5,6),unpack=True)\n",
    "N = 20\n",
    "h = h[-N:] # 当日额最高价\n",
    "l = l[-N:] # 当日的最低价\n",
    "# c 前一日的交易收盘价\n",
    "print(h)\n",
    "print(l)"
   ]
  },
  {
   "cell_type": "code",
   "execution_count": 7,
   "metadata": {},
   "outputs": [
    {
     "name": "stdout",
     "output_type": "stream",
     "text": [
      "len(h) 20  len(l) 20\n",
      "Close [336.1  339.32 345.03 344.32 343.44 346.5  351.88 355.2  358.16 354.54\n",
      " 356.85 359.18 359.9  363.13 358.3  350.56 338.61 342.62 342.88 348.16\n",
      " 353.21 349.31 352.12 359.56 360.   355.36 355.76 352.47 346.67 351.99]\n",
      "[354.54 356.85 359.18 359.9  363.13 358.3  350.56 338.61 342.62 342.88\n",
      " 348.16 353.21 349.31 352.12 359.56 360.   355.36 355.76 352.47 346.67]\n",
      "len(previousclose) 20\n"
     ]
    }
   ],
   "source": [
    "print(\"len(h)\",len(h),\" len(l)\",len(l))\n",
    "print(\"Close\",c)\n",
    "previousclose = c[-N -1:-1]\n",
    "print(previousclose)\n",
    "print(\"len(previousclose)\",len(previousclose))"
   ]
  },
  {
   "cell_type": "code",
   "execution_count": 8,
   "metadata": {},
   "outputs": [
    {
     "name": "stdout",
     "output_type": "stream",
     "text": [
      "True range [ 4.26  2.77  2.42  5.    3.75  9.98  7.68  6.03  6.78  5.55  6.89  8.04\n",
      "  5.95  7.67  2.54 10.36  5.15  4.16  4.87  7.32]\n"
     ]
    }
   ],
   "source": [
    "truerange = np.maximum(h-l, h-previousclose, previousclose-l)\n",
    "# h-l 当日股价范围\n",
    "# h - previousclose 当日最高价和前一个交易日收盘价之差\n",
    "# previousclose - l 前一个交易日收盘价和当日的最低价之差\n",
    "print(\"True range\",  truerange)"
   ]
  },
  {
   "cell_type": "code",
   "execution_count": 9,
   "metadata": {},
   "outputs": [
    {
     "name": "stdout",
     "output_type": "stream",
     "text": [
      "[5.8585 0.     0.     0.     0.     0.     0.     0.     0.     0.\n",
      " 0.     0.     0.     0.     0.     0.     0.     0.     0.     0.    ]\n"
     ]
    }
   ],
   "source": [
    "atr = np.zeros(N)\n",
    "atr[0] = np.mean(truerange)\n",
    "print(atr)"
   ]
  },
  {
   "cell_type": "code",
   "execution_count": 10,
   "metadata": {},
   "outputs": [
    {
     "name": "stdout",
     "output_type": "stream",
     "text": [
      "ATR [5.8585     5.704075   5.53987125 5.51287769 5.4247338  5.65249711\n",
      " 5.75387226 5.76767864 5.81829471 5.80487998 5.85913598 5.96817918\n",
      " 5.96727022 6.05240671 5.87678637 6.10094705 6.0533997  5.95872972\n",
      " 5.90429323 5.97507857]\n"
     ]
    }
   ],
   "source": [
    "for i in range(1, N):\n",
    "    atr[i] = (N-1)*atr[i-1]+truerange[i]\n",
    "    atr[i] /= N\n",
    "print(\"ATR\",atr)"
   ]
  },
  {
   "cell_type": "code",
   "execution_count": null,
   "metadata": {},
   "outputs": [],
   "source": []
  }
 ],
 "metadata": {
  "kernelspec": {
   "display_name": "Python 3",
   "language": "python",
   "name": "python3"
  },
  "language_info": {
   "codemirror_mode": {
    "name": "ipython",
    "version": 3
   },
   "file_extension": ".py",
   "mimetype": "text/x-python",
   "name": "python",
   "nbconvert_exporter": "python",
   "pygments_lexer": "ipython3",
   "version": "3.7.0"
  }
 },
 "nbformat": 4,
 "nbformat_minor": 2
}
