{
 "cells": [
  {
   "cell_type": "code",
   "execution_count": 1,
   "metadata": {},
   "outputs": [],
   "source": [
    "import numpy as np"
   ]
  },
  {
   "cell_type": "code",
   "execution_count": 2,
   "metadata": {},
   "outputs": [
    {
     "name": "stdout",
     "output_type": "stream",
     "text": [
      "[[1. 0.]\n",
      " [0. 1.]]\n"
     ]
    }
   ],
   "source": [
    "i2 = np.eye(2)\n",
    "print(i2)"
   ]
  },
  {
   "cell_type": "code",
   "execution_count": 3,
   "metadata": {},
   "outputs": [],
   "source": [
    "np.savetxt(\"eye.txt\",i2)"
   ]
  },
  {
   "cell_type": "code",
   "execution_count": 19,
   "metadata": {},
   "outputs": [
    {
     "name": "stdout",
     "output_type": "stream",
     "text": [
      "[346.1 336.1 326.1 346.1]\n",
      "[21144800. 21144800. 21144800. 21144800.]\n"
     ]
    }
   ],
   "source": [
    "# usecols 获取指定字段的列\n",
    "# unpack 分拆不同的列\n",
    "c,v = np.loadtxt('data.csv', delimiter=',',usecols=(6,7),unpack=True)\n",
    "print(c)\n",
    "print(v)"
   ]
  },
  {
   "cell_type": "code",
   "execution_count": 20,
   "metadata": {},
   "outputs": [
    {
     "name": "stdout",
     "output_type": "stream",
     "text": [
      "1.325\n",
      "1.325\n"
     ]
    }
   ],
   "source": [
    "#vwap = np.average(c, weights=v)\n",
    "#print(vwap)\n",
    "# 就是给定的weights会首先变成加和为1的形式，然后分别乘以数组c，得到的就是vwap\n",
    "c = np.array([1.1,1.2,1.3,1.4])\n",
    "w = np.array([2./16,2./16,2./16,10./16]) # 跟 w = np.array([2,2,2,10])是一样的\n",
    "vwap = np.average(c,weights=w)\n",
    "print(vwap)\n",
    "print(1.1*2./16+1.2*2/16+1.3*2./16+1.4*10/16)"
   ]
  },
  {
   "cell_type": "code",
   "execution_count": 18,
   "metadata": {},
   "outputs": [
    {
     "name": "stdout",
     "output_type": "stream",
     "text": [
      "1.25\n"
     ]
    }
   ],
   "source": [
    "# 算数平均值\n",
    "print(c.mean())"
   ]
  },
  {
   "cell_type": "code",
   "execution_count": 31,
   "metadata": {},
   "outputs": [
    {
     "name": "stdout",
     "output_type": "stream",
     "text": [
      "[333.4 355.4 344.4 366.4]\n",
      "[365.53 343.53 333.53 363.53]\n",
      "highest =  366.4\n",
      "lowest =  333.53\n",
      "spread high price 33.0\n",
      "spread low price 32.0\n",
      "中位数  349.9\n",
      "[333.4 344.4 355.4 366.4]\n"
     ]
    }
   ],
   "source": [
    "# 找到最大值\n",
    "h,l = np.loadtxt('data.csv',delimiter=',',usecols=(4,5), unpack=True)\n",
    "print(h)\n",
    "print(l)\n",
    "print(\"highest = \", np.max(h))\n",
    "print(\"lowest = \", np.min(l))\n",
    "print(\"spread high price\", np.ptp(h))\n",
    "print(\"spread low price\", np.ptp(l))\n",
    "print(\"中位数 \", np.median(h))\n",
    "print(np.msort(h))"
   ]
  },
  {
   "cell_type": "code",
   "execution_count": 38,
   "metadata": {},
   "outputs": [
    {
     "name": "stdout",
     "output_type": "stream",
     "text": [
      "3.0\n",
      "2.5\n",
      "2.5\n"
     ]
    }
   ],
   "source": [
    "a = np.array([1,2,3,8,9])\n",
    "print(np.median(a))\n",
    "a = np.array([1,2,3,4])\n",
    "print(np.median(a))\n",
    "N = len(a)\n",
    "print((a[int(N/2)]+a[int((N-1)/2)])/2)"
   ]
  },
  {
   "cell_type": "code",
   "execution_count": 42,
   "metadata": {},
   "outputs": [
    {
     "name": "stdout",
     "output_type": "stream",
     "text": [
      "1.25\n",
      "1.25\n"
     ]
    }
   ],
   "source": [
    "# 方差\n",
    "print(np.var(a))\n",
    "print(np.mean((a-a.mean())**2))"
   ]
  },
  {
   "cell_type": "code",
   "execution_count": 46,
   "metadata": {},
   "outputs": [
    {
     "name": "stdout",
     "output_type": "stream",
     "text": [
      "[ 2  2 -1]\n",
      "[0.         1.09861229 1.60943791 1.38629436]\n",
      "1.479019945774904\n",
      "(array([1, 2, 3]),)\n"
     ]
    }
   ],
   "source": [
    "# 差值\n",
    "a = np.array([1,3,5,4])\n",
    "print(np.diff(a))\n",
    "# 对数\n",
    "print(np.log(a))\n",
    "# 标准差\n",
    "print(np.std(a))\n",
    "# 筛选\n",
    "print(np.where(a > 2))"
   ]
  },
  {
   "cell_type": "code",
   "execution_count": 55,
   "metadata": {},
   "outputs": [
    {
     "name": "stdout",
     "output_type": "stream",
     "text": [
      "[4. 5. 6. 0.]\n",
      "[346.1 336.1 326.1 346.1]\n"
     ]
    }
   ],
   "source": [
    "# 日期\n",
    "import datetime\n",
    "def datestr2num(s):\n",
    "    s = str(s, encoding = \"utf-8\")\n",
    "    return datetime.datetime.strptime(s, \"%d-%m-%Y\").date().weekday()\n",
    "\n",
    "dates, close = np.loadtxt('data.csv', \n",
    "                          delimiter=',',\n",
    "                          usecols=(1,6), \n",
    "                          converters={1:datestr2num}, \n",
    "                          unpack=True)\n",
    "print(dates)\n",
    "print(close)"
   ]
  },
  {
   "cell_type": "code",
   "execution_count": null,
   "metadata": {},
   "outputs": [],
   "source": []
  },
  {
   "cell_type": "code",
   "execution_count": null,
   "metadata": {},
   "outputs": [],
   "source": []
  }
 ],
 "metadata": {
  "kernelspec": {
   "display_name": "Python 3",
   "language": "python",
   "name": "python3"
  },
  "language_info": {
   "codemirror_mode": {
    "name": "ipython",
    "version": 3
   },
   "file_extension": ".py",
   "mimetype": "text/x-python",
   "name": "python",
   "nbconvert_exporter": "python",
   "pygments_lexer": "ipython3",
   "version": "3.6.5"
  }
 },
 "nbformat": 4,
 "nbformat_minor": 2
}
