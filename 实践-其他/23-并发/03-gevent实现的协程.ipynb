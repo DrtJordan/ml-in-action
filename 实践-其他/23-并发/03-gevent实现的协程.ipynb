{
 "cells": [
  {
   "cell_type": "markdown",
   "metadata": {},
   "source": [
    "## 参考链接：http://python.jobbole.com/87181/"
   ]
  },
  {
   "cell_type": "code",
   "execution_count": 1,
   "metadata": {},
   "outputs": [],
   "source": [
    "import gevent"
   ]
  },
  {
   "cell_type": "code",
   "execution_count": 2,
   "metadata": {},
   "outputs": [
    {
     "name": "stdout",
     "output_type": "stream",
     "text": [
      "12\n",
      "56\n",
      "34\n",
      "78\n"
     ]
    },
    {
     "data": {
      "text/plain": [
       "[<Greenlet \"Greenlet-0\" at 0x106dc9948: _run>,\n",
       " <Greenlet \"Greenlet-1\" at 0x106dc9a48: _run>]"
      ]
     },
     "execution_count": 2,
     "metadata": {},
     "output_type": "execute_result"
    }
   ],
   "source": [
    "def test1():\n",
    "    print(12)\n",
    "    gevent.sleep(0)\n",
    "    print(34)\n",
    "def test2():\n",
    "    print(56)\n",
    "    gevent.sleep(0)\n",
    "    print(78)\n",
    "# joinall，等待所有的协程执行完毕才结束\n",
    "gevent.joinall([gevent.spawn(test1), # 创建新的协程对象\n",
    "                gevent.spawn(test2)])"
   ]
  },
  {
   "cell_type": "code",
   "execution_count": 4,
   "metadata": {},
   "outputs": [
    {
     "name": "stdout",
     "output_type": "stream",
     "text": [
      "['111.13.100.92', '23.100.69.251', '151.101.24.223']\n"
     ]
    }
   ],
   "source": [
    "import socket\n",
    "urls = ['www.baidu.com', 'www.gevent.org', 'www.python.org']\n",
    "jobs = [gevent.spawn(socket.gethostbyname, url) for url in urls]\n",
    "gevent.joinall(jobs, timeout=5)\n",
    "\n",
    "print([job.value for job in jobs])"
   ]
  },
  {
   "cell_type": "code",
   "execution_count": 5,
   "metadata": {},
   "outputs": [
    {
     "name": "stdout",
     "output_type": "stream",
     "text": [
      "['111.13.100.91', '23.100.69.251', '151.101.24.223']\n"
     ]
    }
   ],
   "source": [
    "from gevent import monkey\n",
    "monkey.patch_socket() # 将标准库替换成gevent非阻塞模式，也可以使用monkey.patch_all()\n",
    "urls = ['www.baidu.com', 'www.gevent.org', 'www.python.org']\n",
    "jobs = [gevent.spawn(socket.gethostbyname, url) for url in urls]\n",
    "gevent.joinall(jobs, timeout=5)\n",
    "\n",
    "print([job.value for job in jobs])"
   ]
  },
  {
   "cell_type": "code",
   "execution_count": 9,
   "metadata": {},
   "outputs": [
    {
     "name": "stdout",
     "output_type": "stream",
     "text": [
      "True\n",
      "True\n",
      "False\n",
      "False\n",
      "True\n",
      "True\n",
      "you win!\n",
      "None\n",
      "True\n",
      "False\n",
      "you failed!\n"
     ]
    },
    {
     "name": "stderr",
     "output_type": "stream",
     "text": [
      "Traceback (most recent call last):\n",
      "  File \"src/gevent/greenlet.py\", line 705, in gevent._greenlet.Greenlet.run\n",
      "  File \"<ipython-input-9-83cacf7d944e>\", line 5, in fail\n",
      "    raise Exception('you failed!')\n",
      "Exception: you failed!\n",
      "2018-10-25T02:17:31Z <Greenlet \"Greenlet-2\" at 0x107120548: fail> failed with Exception\n",
      "\n"
     ]
    }
   ],
   "source": [
    "# 获取协程的状态\n",
    "def win():\n",
    "    return 'you win!'\n",
    "def fail():\n",
    "    raise Exception('you failed!')\n",
    "winner = gevent.spawn(win)\n",
    "loser = gevent.spawn(fail)\n",
    "\n",
    "print(winner.started)\n",
    "print(loser.started)\n",
    "\n",
    "print(winner.ready())\n",
    "print(loser.ready())\n",
    "\n",
    "try:\n",
    "    # greenlet中的异常，不会抛出到外面\n",
    "    gevent.joinall([winner, loser])\n",
    "except Exception as e:\n",
    "    print('never be reaced')\n",
    "\n",
    "print(winner.ready())\n",
    "print(loser.ready())\n",
    "\n",
    "print(winner.value)\n",
    "print(loser.value)\n",
    "\n",
    "print(winner.successful())\n",
    "print(loser.successful())\n",
    "\n",
    "print(loser.exception)"
   ]
  },
  {
   "cell_type": "code",
   "execution_count": 10,
   "metadata": {},
   "outputs": [
    {
     "name": "stdout",
     "output_type": "stream",
     "text": [
      "main\n",
      "gevent\n",
      "could not complete\n"
     ]
    }
   ],
   "source": [
    "# 协程超时\n",
    "from gevent import Timeout\n",
    "\n",
    "timeout = Timeout(2)\n",
    "timeout.start()\n",
    "\n",
    "def wait():\n",
    "    print('gevent')\n",
    "    gevent.sleep(10)\n",
    "\n",
    "print('main')\n",
    "try:\n",
    "    gevent.spawn(wait).join()\n",
    "except Timeout:\n",
    "    print('could not complete')"
   ]
  },
  {
   "cell_type": "code",
   "execution_count": 11,
   "metadata": {},
   "outputs": [
    {
     "name": "stdout",
     "output_type": "stream",
     "text": [
      "could not complete\n",
      "gevent\n",
      "gevent\n"
     ]
    }
   ],
   "source": [
    "# 在with块中超时有效\n",
    "with Timeout(1):\n",
    "    gevent.sleep(10)\n",
    "    try:\n",
    "        gevent.spawn(wait).join()\n",
    "    except Timeout:\n",
    "        print('could not complete')\n",
    "\n",
    "try:\n",
    "    gevent.spawn(wait).join()\n",
    "except Timeout:\n",
    "    print('could not complete')"
   ]
  },
  {
   "cell_type": "code",
   "execution_count": 12,
   "metadata": {},
   "outputs": [
    {
     "name": "stdout",
     "output_type": "stream",
     "text": [
      "wait\n",
      "waiting\n",
      "waiting\n",
      "waiting\n",
      "waiting\n",
      "waiting\n",
      "ok\n",
      "finish\n",
      "finish\n",
      "finish\n",
      "finish\n",
      "finish\n"
     ]
    },
    {
     "data": {
      "text/plain": [
       "[<Greenlet \"Greenlet-3\" at 0x1072ffc48: _run>,\n",
       " <Greenlet \"Greenlet-4\" at 0x107632248: _run>,\n",
       " <Greenlet \"Greenlet-5\" at 0x107632548: _run>,\n",
       " <Greenlet \"Greenlet-6\" at 0x107632348: _run>,\n",
       " <Greenlet \"Greenlet-7\" at 0x1072ffd48: _run>,\n",
       " <Greenlet \"Greenlet-8\" at 0x107632448: _run>]"
      ]
     },
     "execution_count": 12,
     "metadata": {},
     "output_type": "execute_result"
    }
   ],
   "source": [
    "# 协程的通讯，wait()阻塞当前协程，set召唤之前阻塞的协程\n",
    "from gevent.event import Event\n",
    "\n",
    "evt = Event()\n",
    "def setter():\n",
    "    print('wait')\n",
    "    gevent.sleep(3)\n",
    "    print('ok')\n",
    "    evt.set()\n",
    "def waiter():\n",
    "    print('waiting')\n",
    "    evt.wait()\n",
    "    print('finish')\n",
    "gevent.joinall([gevent.spawn(setter),\n",
    "               gevent.spawn(waiter),\n",
    "               gevent.spawn(waiter),\n",
    "               gevent.spawn(waiter),\n",
    "               gevent.spawn(waiter),\n",
    "               gevent.spawn(waiter)])"
   ]
  },
  {
   "cell_type": "code",
   "execution_count": 13,
   "metadata": {},
   "outputs": [
    {
     "name": "stdout",
     "output_type": "stream",
     "text": [
      "wait\n",
      "wait\n",
      "wait\n",
      "wait\n",
      "wait\n",
      "wait\n",
      "ok\n",
      "get hello!\n",
      "get hello!\n",
      "get hello!\n",
      "get hello!\n",
      "get hello!\n"
     ]
    },
    {
     "data": {
      "text/plain": [
       "[<Greenlet \"Greenlet-9\" at 0x107632148: _run>,\n",
       " <Greenlet \"Greenlet-10\" at 0x107632a48: _run>,\n",
       " <Greenlet \"Greenlet-11\" at 0x107632848: _run>,\n",
       " <Greenlet \"Greenlet-12\" at 0x107632748: _run>,\n",
       " <Greenlet \"Greenlet-13\" at 0x107632648: _run>,\n",
       " <Greenlet \"Greenlet-14\" at 0x107632948: _run>]"
      ]
     },
     "execution_count": 13,
     "metadata": {},
     "output_type": "execute_result"
    }
   ],
   "source": [
    "# 异步事件\n",
    "from gevent.event import AsyncResult\n",
    "aevt = AsyncResult()\n",
    "\n",
    "def setter():\n",
    "    print('wait')\n",
    "    gevent.sleep(3)\n",
    "    print('ok')\n",
    "    aevt.set('hello!')\n",
    "def waiter():\n",
    "    print('wait')\n",
    "    message = aevt.get()\n",
    "    print('get %s' % message)\n",
    "\n",
    "gevent.joinall([gevent.spawn(setter),\n",
    "               gevent.spawn(waiter),\n",
    "               gevent.spawn(waiter),\n",
    "               gevent.spawn(waiter),\n",
    "               gevent.spawn(waiter),\n",
    "               gevent.spawn(waiter)])    "
   ]
  },
  {
   "cell_type": "code",
   "execution_count": 14,
   "metadata": {},
   "outputs": [
    {
     "name": "stdout",
     "output_type": "stream",
     "text": [
      "1 got product 1\n",
      "2 got product 2\n",
      "3 got product 3\n",
      "1 got product 4\n",
      "2 got product 5\n",
      "3 got product 6\n",
      "1 got product 7\n",
      "2 got product 8\n",
      "3 got product 9\n",
      "1 quit\n",
      "2 quit\n",
      "3 quit\n"
     ]
    },
    {
     "data": {
      "text/plain": [
       "[<Greenlet \"Greenlet-15\" at 0x107632b48: _run>,\n",
       " <Greenlet \"Greenlet-16\" at 0x107632c48: _run>,\n",
       " <Greenlet \"Greenlet-17\" at 0x107632d48: _run>,\n",
       " <Greenlet \"Greenlet-18\" at 0x107632e48: _run>]"
      ]
     },
     "execution_count": 14,
     "metadata": {},
     "output_type": "execute_result"
    }
   ],
   "source": [
    "# 队列\n",
    "from gevent.queue import Queue\n",
    "\n",
    "products = Queue()\n",
    "\n",
    "def consumer(name):\n",
    "    while not products.empty():\n",
    "        print('%s got product %s' % (name, products.get()))\n",
    "        gevent.sleep(0)\n",
    "    print('%s quit' % name)\n",
    "def producer():\n",
    "    for i in range(1, 10):\n",
    "        products.put(i)\n",
    "gevent.joinall([\n",
    "    gevent.spawn(producer),\n",
    "    gevent.spawn(consumer, '1'),\n",
    "    gevent.spawn(consumer, '2'),\n",
    "    gevent.spawn(consumer, '3')\n",
    "])"
   ]
  },
  {
   "cell_type": "code",
   "execution_count": 15,
   "metadata": {},
   "outputs": [
    {
     "ename": "ModuleNotFoundError",
     "evalue": "No module named 'gevent.coros'",
     "traceback": [
      "\u001b[0;31m---------------------------------------------------------------------------\u001b[0m",
      "\u001b[0;31mModuleNotFoundError\u001b[0m                       Traceback (most recent call last)",
      "\u001b[0;32m<ipython-input-15-003fc8e38a5a>\u001b[0m in \u001b[0;36m<module>\u001b[0;34m()\u001b[0m\n\u001b[1;32m      1\u001b[0m \u001b[0;31m# 信号量\u001b[0m\u001b[0;34m\u001b[0m\u001b[0;34m\u001b[0m\u001b[0m\n\u001b[0;32m----> 2\u001b[0;31m \u001b[0;32mfrom\u001b[0m \u001b[0mgevent\u001b[0m\u001b[0;34m.\u001b[0m\u001b[0mcoros\u001b[0m \u001b[0;32mimport\u001b[0m \u001b[0mBoundedSemaphore\u001b[0m\u001b[0;34m\u001b[0m\u001b[0m\n\u001b[0m\u001b[1;32m      3\u001b[0m \u001b[0msem\u001b[0m \u001b[0;34m=\u001b[0m \u001b[0mBoundedSemaphore\u001b[0m\u001b[0;34m(\u001b[0m\u001b[0;36m2\u001b[0m\u001b[0;34m)\u001b[0m\u001b[0;34m\u001b[0m\u001b[0m\n\u001b[1;32m      4\u001b[0m \u001b[0;34m\u001b[0m\u001b[0m\n\u001b[1;32m      5\u001b[0m \u001b[0;32mdef\u001b[0m \u001b[0mworker\u001b[0m\u001b[0;34m(\u001b[0m\u001b[0mn\u001b[0m\u001b[0;34m)\u001b[0m\u001b[0;34m:\u001b[0m\u001b[0;34m\u001b[0m\u001b[0m\n",
      "\u001b[0;31mModuleNotFoundError\u001b[0m: No module named 'gevent.coros'"
     ],
     "output_type": "error"
    }
   ],
   "source": [
    "# 信号量\n",
    "from gevent.coros import BoundedSemaphore\n",
    "sem = BoundedSemaphore(2)\n",
    "\n",
    "def worker(n):\n",
    "    sem.acquire()\n",
    "    print('worker %i acquire semaphore' % n)\n",
    "    gevent.sleep(0)\n",
    "    sem.release()\n",
    "    print('worker %i released semaphore' % n)\n",
    "gevent.joinall([\n",
    "    gevent.spawn(worker, i) for i in range(0, 6)\n",
    "])"
   ]
  },
  {
   "cell_type": "code",
   "execution_count": 16,
   "metadata": {},
   "outputs": [
    {
     "name": "stdout",
     "output_type": "stream",
     "text": [
      "1\n",
      "x is not visible\n"
     ]
    },
    {
     "data": {
      "text/plain": [
       "[<Greenlet \"Greenlet-19\" at 0x1076d4048: _run>,\n",
       " <Greenlet \"Greenlet-20\" at 0x1076d4148: _run>]"
      ]
     },
     "execution_count": 16,
     "metadata": {},
     "output_type": "execute_result"
    }
   ],
   "source": [
    "# 协程本地变量, 作用域限制在协程内\n",
    "from gevent.local import local\n",
    "\n",
    "data = local()\n",
    "\n",
    "def f1():\n",
    "    data.x = 1\n",
    "    print(data.x)\n",
    "def f2():\n",
    "    try:\n",
    "        print(data.x)\n",
    "    except AttributeError:\n",
    "        print('x is not visible')\n",
    "gevent.joinall([\n",
    "    gevent.spawn(f1), gevent.spawn(f2)\n",
    "])"
   ]
  },
  {
   "cell_type": "code",
   "execution_count": null,
   "metadata": {},
   "outputs": [],
   "source": []
  }
 ],
 "metadata": {
  "kernelspec": {
   "display_name": "Python 3",
   "language": "python",
   "name": "python3"
  },
  "language_info": {
   "codemirror_mode": {
    "name": "ipython",
    "version": 3
   },
   "file_extension": ".py",
   "mimetype": "text/x-python",
   "name": "python",
   "nbconvert_exporter": "python",
   "pygments_lexer": "ipython3",
   "version": "3.6.5"
  }
 },
 "nbformat": 4,
 "nbformat_minor": 2
}
