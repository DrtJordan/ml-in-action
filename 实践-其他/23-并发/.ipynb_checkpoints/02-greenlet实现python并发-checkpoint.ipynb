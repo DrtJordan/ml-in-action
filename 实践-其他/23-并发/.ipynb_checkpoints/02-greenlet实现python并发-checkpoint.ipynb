{
 "cells": [
  {
   "cell_type": "markdown",
   "metadata": {},
   "source": [
    "## 参考链接：http://python.jobbole.com/87182/\n",
    "## Greenlet链接：https://greenlet.readthedocs.io/en/latest/#introduction"
   ]
  },
  {
   "cell_type": "code",
   "execution_count": 2,
   "metadata": {},
   "outputs": [],
   "source": [
    "from greenlet import greenlet"
   ]
  },
  {
   "cell_type": "code",
   "execution_count": 3,
   "metadata": {},
   "outputs": [
    {
     "name": "stdout",
     "output_type": "stream",
     "text": [
      "12\n",
      "56\n",
      "34\n"
     ]
    }
   ],
   "source": [
    "# 协程的运行，本质上还是串行的，并不是真正意义上的并发；也无法发挥CPU多核的优势。\n",
    "# 另外，如果没有显式的切换，会有部分代码执行不到\n",
    "def test1():\n",
    "    print(12)\n",
    "    gr2.switch()\n",
    "    print(34)\n",
    "def test2():\n",
    "    print(56)\n",
    "    gr1.switch()\n",
    "    print(78)\n",
    "gr1 = greenlet(test1)\n",
    "gr2 = greenlet(test2)\n",
    "gr1.switch()"
   ]
  },
  {
   "cell_type": "markdown",
   "metadata": {},
   "source": [
    "#### 协程说明\n",
    "greenlet(run, parent)\n",
    "\n",
    "- run:执行的方法\n",
    "- parent:表示协程的父协程，如果不设置，则为Main\n",
    "\n",
    "子协程处理完，会自动返回父协程。"
   ]
  },
  {
   "cell_type": "code",
   "execution_count": 4,
   "metadata": {},
   "outputs": [
    {
     "name": "stdout",
     "output_type": "stream",
     "text": [
      "12\n",
      "56\n",
      "34\n",
      "78\n"
     ]
    }
   ],
   "source": [
    "def test1():\n",
    "    print(12)\n",
    "    gr2.switch()\n",
    "    print(34)\n",
    "def test2():\n",
    "    print(56)\n",
    "gr1 = greenlet(test1)\n",
    "gr2 = greenlet(test2, gr1)\n",
    "gr1.switch()\n",
    "print(78)"
   ]
  },
  {
   "cell_type": "code",
   "execution_count": 5,
   "metadata": {},
   "outputs": [
    {
     "name": "stdout",
     "output_type": "stream",
     "text": [
      "12\n",
      "test3-1\n"
     ]
    },
    {
     "ename": "NameError",
     "evalue": "",
     "output_type": "error",
     "traceback": [
      "\u001b[0;31m---------------------------------------------------------------------------\u001b[0m",
      "\u001b[0;31mNameError\u001b[0m                                 Traceback (most recent call last)",
      "\u001b[0;32m<ipython-input-5-75df767af6e4>\u001b[0m in \u001b[0;36m<module>\u001b[0;34m()\u001b[0m\n\u001b[1;32m      5\u001b[0m \u001b[0mgr1\u001b[0m \u001b[0;34m=\u001b[0m \u001b[0mgreenlet\u001b[0m\u001b[0;34m(\u001b[0m\u001b[0mtest1\u001b[0m\u001b[0;34m)\u001b[0m\u001b[0;34m\u001b[0m\u001b[0m\n\u001b[1;32m      6\u001b[0m \u001b[0mgr2\u001b[0m \u001b[0;34m=\u001b[0m \u001b[0mgreenlet\u001b[0m\u001b[0;34m(\u001b[0m\u001b[0mtest3\u001b[0m\u001b[0;34m,\u001b[0m \u001b[0mgr1\u001b[0m\u001b[0;34m)\u001b[0m\u001b[0;34m\u001b[0m\u001b[0m\n\u001b[0;32m----> 7\u001b[0;31m \u001b[0mgr1\u001b[0m\u001b[0;34m.\u001b[0m\u001b[0mswitch\u001b[0m\u001b[0;34m(\u001b[0m\u001b[0;34m)\u001b[0m\u001b[0;34m\u001b[0m\u001b[0m\n\u001b[0m",
      "\u001b[0;32m<ipython-input-4-469ef5817443>\u001b[0m in \u001b[0;36mtest1\u001b[0;34m()\u001b[0m\n\u001b[1;32m      1\u001b[0m \u001b[0;32mdef\u001b[0m \u001b[0mtest1\u001b[0m\u001b[0;34m(\u001b[0m\u001b[0;34m)\u001b[0m\u001b[0;34m:\u001b[0m\u001b[0;34m\u001b[0m\u001b[0m\n\u001b[1;32m      2\u001b[0m     \u001b[0mprint\u001b[0m\u001b[0;34m(\u001b[0m\u001b[0;36m12\u001b[0m\u001b[0;34m)\u001b[0m\u001b[0;34m\u001b[0m\u001b[0m\n\u001b[0;32m----> 3\u001b[0;31m     \u001b[0mgr2\u001b[0m\u001b[0;34m.\u001b[0m\u001b[0mswitch\u001b[0m\u001b[0;34m(\u001b[0m\u001b[0;34m)\u001b[0m\u001b[0;34m\u001b[0m\u001b[0m\n\u001b[0m\u001b[1;32m      4\u001b[0m     \u001b[0mprint\u001b[0m\u001b[0;34m(\u001b[0m\u001b[0;36m34\u001b[0m\u001b[0;34m)\u001b[0m\u001b[0;34m\u001b[0m\u001b[0m\n\u001b[1;32m      5\u001b[0m \u001b[0;32mdef\u001b[0m \u001b[0mtest2\u001b[0m\u001b[0;34m(\u001b[0m\u001b[0;34m)\u001b[0m\u001b[0;34m:\u001b[0m\u001b[0;34m\u001b[0m\u001b[0m\n",
      "\u001b[0;32m<ipython-input-5-75df767af6e4>\u001b[0m in \u001b[0;36mtest3\u001b[0;34m()\u001b[0m\n\u001b[1;32m      2\u001b[0m \u001b[0;32mdef\u001b[0m \u001b[0mtest3\u001b[0m\u001b[0;34m(\u001b[0m\u001b[0;34m)\u001b[0m\u001b[0;34m:\u001b[0m\u001b[0;34m\u001b[0m\u001b[0m\n\u001b[1;32m      3\u001b[0m     \u001b[0mprint\u001b[0m\u001b[0;34m(\u001b[0m\u001b[0;34m\"test3-1\"\u001b[0m\u001b[0;34m)\u001b[0m\u001b[0;34m\u001b[0m\u001b[0m\n\u001b[0;32m----> 4\u001b[0;31m     \u001b[0;32mraise\u001b[0m \u001b[0mNameError\u001b[0m\u001b[0;34m\u001b[0m\u001b[0m\n\u001b[0m\u001b[1;32m      5\u001b[0m \u001b[0mgr1\u001b[0m \u001b[0;34m=\u001b[0m \u001b[0mgreenlet\u001b[0m\u001b[0;34m(\u001b[0m\u001b[0mtest1\u001b[0m\u001b[0;34m)\u001b[0m\u001b[0;34m\u001b[0m\u001b[0m\n\u001b[1;32m      6\u001b[0m \u001b[0mgr2\u001b[0m \u001b[0;34m=\u001b[0m \u001b[0mgreenlet\u001b[0m\u001b[0;34m(\u001b[0m\u001b[0mtest3\u001b[0m\u001b[0;34m,\u001b[0m \u001b[0mgr1\u001b[0m\u001b[0;34m)\u001b[0m\u001b[0;34m\u001b[0m\u001b[0m\n",
      "\u001b[0;31mNameError\u001b[0m: "
     ]
    }
   ],
   "source": [
    "# 协程的异常处理，会抛到父协程中\n",
    "def test3():\n",
    "    print(\"test3-1\")\n",
    "    raise NameError\n",
    "gr1 = greenlet(test1)\n",
    "gr2 = greenlet(test3, gr1)\n",
    "gr1.switch()\n"
   ]
  },
  {
   "cell_type": "code",
   "execution_count": 6,
   "metadata": {},
   "outputs": [
    {
     "name": "stdout",
     "output_type": "stream",
     "text": [
      "test4-1\n",
      "test3-1\n",
      "test4-try\n",
      "test4-2\n"
     ]
    }
   ],
   "source": [
    "def test4():\n",
    "    print('test4-1')\n",
    "    try:\n",
    "        gr2.switch()\n",
    "    except NameError:\n",
    "        print('test4-try')\n",
    "    print('test4-2')\n",
    "gr1 = greenlet(test4)\n",
    "gr2 = greenlet(test3, gr1)\n",
    "gr1.switch()"
   ]
  },
  {
   "cell_type": "code",
   "execution_count": 10,
   "metadata": {},
   "outputs": [
    {
     "name": "stdout",
     "output_type": "stream",
     "text": [
      "test6-1\n",
      "test5-1\n",
      "test6-2\n"
     ]
    }
   ],
   "source": [
    "# greenlet.GreenletExit\n",
    "def test5():\n",
    "    print('test5-1')\n",
    "    raise greenlet.GreenletExit\n",
    "    print('test5-2')\n",
    "def test6():\n",
    "    print('test6-1')\n",
    "    #gr2.throw(NameError)\n",
    "    try:\n",
    "        #gr2.throw(NameError)\n",
    "        gr2.switch()\n",
    "    except NameError:\n",
    "        print('test6-error')\n",
    "    print('test6-2')\n",
    "gr1 = greenlet(test6)\n",
    "gr2 = greenlet(test5, gr1)\n",
    "gr1.switch()"
   ]
  },
  {
   "cell_type": "code",
   "execution_count": 12,
   "metadata": {},
   "outputs": [
    {
     "name": "stdout",
     "output_type": "stream",
     "text": [
      "test7-1\n",
      "hello\n",
      "world\n"
     ]
    }
   ],
   "source": [
    "# 协程之间传递消息\n",
    "def test7():\n",
    "    print('test7-1')\n",
    "    y = gr2.switch('hello')\n",
    "    print(y)\n",
    "def test8(x):\n",
    "    print(x)\n",
    "    gr1.switch('world')\n",
    "    print('test8-2')\n",
    "gr1 = greenlet(test7)\n",
    "gr2 = greenlet(test8)\n",
    "gr1.switch()"
   ]
  },
  {
   "cell_type": "code",
   "execution_count": 14,
   "metadata": {},
   "outputs": [
    {
     "name": "stdout",
     "output_type": "stream",
     "text": [
      "Producer 1\n",
      "Consumer 1\n",
      "Producer 2\n",
      "Consumer 2\n",
      "Producer 3\n",
      "Consumer 3\n",
      "Producer 4\n",
      "Consumer 4\n",
      "Producer 5\n",
      "Consumer 5\n"
     ]
    }
   ],
   "source": [
    "# 生产者消费者的改造\n",
    "def consumer():\n",
    "    last = ''\n",
    "    while True:\n",
    "        receival = pro.switch(last)\n",
    "        if receival is not None:\n",
    "            print('Consumer %s' % receival)\n",
    "            last = receival\n",
    "def producer(n):\n",
    "    con.switch()\n",
    "    x = 0\n",
    "    while x < n:\n",
    "        x += 1\n",
    "        print('Producer %s' % x)\n",
    "        last = con.switch(x)\n",
    "pro = greenlet(producer)\n",
    "con = greenlet(consumer)\n",
    "pro.switch(5)"
   ]
  },
  {
   "cell_type": "code",
   "execution_count": null,
   "metadata": {},
   "outputs": [],
   "source": []
  }
 ],
 "metadata": {
  "kernelspec": {
   "display_name": "Python 3",
   "language": "python",
   "name": "python3"
  },
  "language_info": {
   "codemirror_mode": {
    "name": "ipython",
    "version": 3
   },
   "file_extension": ".py",
   "mimetype": "text/x-python",
   "name": "python",
   "nbconvert_exporter": "python",
   "pygments_lexer": "ipython3",
   "version": "3.6.5"
  }
 },
 "nbformat": 4,
 "nbformat_minor": 2
}
